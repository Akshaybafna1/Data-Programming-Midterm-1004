{
 "cells": [
  {
   "cell_type": "markdown",
   "id": "4ed38510",
   "metadata": {},
   "source": [
    "# Question 21"
   ]
  },
  {
   "cell_type": "code",
   "execution_count": 9,
   "id": "dec069ae",
   "metadata": {},
   "outputs": [
    {
     "name": "stdout",
     "output_type": "stream",
     "text": [
      "The length of the segment is: 5.0\n",
      "The slope of the segment is: 0.75\n"
     ]
    }
   ],
   "source": [
    "import math\n",
    "\n",
    "class Point:\n",
    "    def __init__(self, x=0, y=0):\n",
    "        self.x_coordinate = x\n",
    "        self.y_coordinate = y\n",
    "\n",
    "class Segment:\n",
    "    def __init__(self, point1, point2):\n",
    "        self.point1 = point1\n",
    "        self.point2 = point2\n",
    "\n",
    "    def calculate_length(self):\n",
    "        # Calculate the length of the segment using the distance formula\n",
    "        length = math.sqrt((self.point2.x_coordinate - self.point1.x_coordinate) ** 2 + (self.point2.y_coordinate - self.point1.y_coordinate) ** 2)\n",
    "        print(\"The length of the segment is:\", length)\n",
    "\n",
    "    def calculate_slope(self):\n",
    "        # Calculate the slope of the segment\n",
    "        if self.point2.x_coordinate - self.point1.x_coordinate == 0:\n",
    "            slope = \"undefined\"  # The slope is undefined for vertical segments\n",
    "        else:\n",
    "            slope = (self.point2.y_coordinate - self.point1.y_coordinate) / (self.point2.x_coordinate - self.point1.x_coordinate)\n",
    "        print(\"The slope of the segment is:\", slope)\n",
    "\n",
    "if __name__ == \"__main__\":\n",
    "    # Create two points\n",
    "    point1 = Point(4, 3)\n",
    "    point2 = Point(0, 0)\n",
    "    \n",
    "    # Create a segment using the two points\n",
    "    segment = Segment(point1, point2)\n",
    "    \n",
    "    # Calculate and print the length of the segment\n",
    "    segment.calculate_length()\n",
    "    \n",
    "    # Calculate and print the slope of the segment\n",
    "    segment.calculate_slope()\n"
   ]
  },
  {
   "cell_type": "code",
   "execution_count": null,
   "id": "97a05b75",
   "metadata": {},
   "outputs": [],
   "source": []
  },
  {
   "cell_type": "markdown",
   "id": "0a62249b",
   "metadata": {},
   "source": [
    "# Question 22"
   ]
  },
  {
   "cell_type": "code",
   "execution_count": 10,
   "id": "c5f7fdd6",
   "metadata": {},
   "outputs": [
    {
     "name": "stdout",
     "output_type": "stream",
     "text": [
      "2\n",
      "4\n"
     ]
    }
   ],
   "source": [
    "import sqlite3\n",
    "\n",
    "# Connect to the SQLite database or create it if it doesn't exist\n",
    "conn = sqlite3.connect('weather.db')\n",
    "\n",
    "# Create a cursor object to interact with the database\n",
    "cur = conn.cursor()\n",
    "\n",
    "# Create the Weather1 table with columns: id, recordDate, and temperature\n",
    "cur.execute('''\n",
    "    CREATE TABLE IF NOT EXISTS Weather1 (\n",
    "        id INTEGER PRIMARY KEY,\n",
    "        recordDate DATE,\n",
    "        temperature INTEGER\n",
    "    )\n",
    "''')\n",
    "\n",
    "# Insert sample data into the Weather1 table\n",
    "data_to_insert = [\n",
    "    (1, '2015-01-01', 10),\n",
    "    (2, '2015-01-02', 25),\n",
    "    (3, '2015-01-03', 20),\n",
    "    (4, '2015-01-04', 30)\n",
    "]\n",
    "cur.executemany('INSERT INTO Weather1 (id, recordDate, temperature) VALUES (?, ?, ?)', data_to_insert)\n",
    "\n",
    "# Commit the changes to the database\n",
    "conn.commit()\n",
    "\n",
    "# Find records where the temperature is greater than the temperature of the next day\n",
    "cur.execute('''\n",
    "    SELECT w1.id\n",
    "    FROM Weather1 w1\n",
    "    JOIN Weather1 w2\n",
    "    ON w1.recordDate = DATE(w2.recordDate, '+1 day')\n",
    "    WHERE w1.temperature > w2.temperature\n",
    "''')\n",
    "\n",
    "# Fetch and print the results\n",
    "results = cur.fetchall()\n",
    "for row in results:\n",
    "    print(row[0])\n",
    "\n",
    "# Close the database connection\n",
    "conn.close()\n"
   ]
  },
  {
   "cell_type": "code",
   "execution_count": null,
   "id": "d0064dc8",
   "metadata": {},
   "outputs": [],
   "source": []
  },
  {
   "cell_type": "markdown",
   "id": "bfb84c08",
   "metadata": {},
   "source": [
    "# Question 23"
   ]
  },
  {
   "cell_type": "code",
   "execution_count": 11,
   "id": "6e748383",
   "metadata": {},
   "outputs": [
    {
     "name": "stdout",
     "output_type": "stream",
     "text": [
      "Printing pattern for (0, 0):\n",
      "\n",
      "\n",
      "Printing pattern for (0, 1):\n",
      "*\n",
      "\n",
      "\n",
      "Printing pattern for (0, 2):\n",
      "*\n",
      "**\n",
      " *\n",
      "\n",
      "\n",
      "Printing pattern for (0, 4):\n",
      "*\n",
      "**\n",
      " *\n",
      "****\n",
      "  *\n",
      "  **\n",
      "   *\n",
      "\n",
      "\n"
     ]
    }
   ],
   "source": [
    "def print_recursive_pattern(indent, size):\n",
    "    # Define a helper function for recursive pattern printing\n",
    "    def print_pattern(indent, size):\n",
    "        if size > 0:\n",
    "            # First, print the pattern with half the size\n",
    "            print_pattern(indent, size // 2)\n",
    "            \n",
    "            # Print the current level of stars with the specified indentation\n",
    "            print(\" \" * indent + \"*\" * size)\n",
    "            \n",
    "            # Recursively print the lower half of the pattern with increased indentation\n",
    "            print_pattern(indent + size // 2, size // 2)\n",
    "\n",
    "    # Call the helper function to print the pattern\n",
    "    print_pattern(indent, size)\n",
    "\n",
    "# List of values to print patterns for\n",
    "values_to_print = [0, 1, 2, 4]\n",
    "\n",
    "for value in values_to_print:\n",
    "    print(f\"Printing pattern for (0, {value}):\")\n",
    "    # Call the print_recursive_pattern function with specified parameters\n",
    "    print_recursive_pattern(0, value)\n",
    "    print(\"\\n\")\n"
   ]
  },
  {
   "cell_type": "code",
   "execution_count": null,
   "id": "9906d810",
   "metadata": {},
   "outputs": [],
   "source": []
  }
 ],
 "metadata": {
  "kernelspec": {
   "display_name": "Python 3 (ipykernel)",
   "language": "python",
   "name": "python3"
  },
  "language_info": {
   "codemirror_mode": {
    "name": "ipython",
    "version": 3
   },
   "file_extension": ".py",
   "mimetype": "text/x-python",
   "name": "python",
   "nbconvert_exporter": "python",
   "pygments_lexer": "ipython3",
   "version": "3.11.4"
  }
 },
 "nbformat": 4,
 "nbformat_minor": 5
}
